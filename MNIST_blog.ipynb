{
 "cells": [
  {
   "cell_type": "markdown",
   "metadata": {},
   "source": [
    "# **Differentially Private Deep Learning in 20 lines of code**\n",
    "\n",
    "This is a step-by-step tutorial on how to train a simple PyTorch classification model on MNIST dataset using a differentially private - stochastic gradient descent optimizer in 20 lines of code using the PyTorch opacus library.  \n",
    "\n",
    "Link to blogpost: https://blog.openmined.org/differentially-private-deep-learning-using-opacus-in-20-lines-of-code/\n",
    "\n",
    "Link to library: https://github.com/pytorch/opacus\n",
    "\n",
    "Author: Kritika Prakash, OpenMined\n"
   ]
  },
  {
   "cell_type": "markdown",
   "metadata": {},
   "source": [
    "### **Step 1: Importing PyTorch and Opacus**"
   ]
  },
  {
   "cell_type": "code",
   "execution_count": 55,
   "metadata": {},
   "outputs": [],
   "source": [
    "import torch\n",
    "from torchvision import datasets, transforms\n",
    "import numpy as np\n",
    "from opacus import PrivacyEngine\n",
    "from tqdm import tqdm"
   ]
  },
  {
   "cell_type": "code",
   "execution_count": 56,
   "metadata": {
    "scrolled": true
   },
   "outputs": [],
   "source": [
    "# !pip install -e ."
   ]
  },
  {
   "cell_type": "markdown",
   "metadata": {},
   "source": [
    "## **Step 2: Loading MNIST data**"
   ]
  },
  {
   "cell_type": "code",
   "execution_count": 57,
   "metadata": {},
   "outputs": [],
   "source": [
    "train_loader = torch.utils.data.DataLoader(\n",
    "    datasets.MNIST('../mnist',\n",
    "                   train=True,\n",
    "                   download=True,\n",
    "                   transform=transforms.Compose([transforms.ToTensor(),\n",
    "                                                 transforms.Normalize((0.1307,), (0.3081,)),]),),\n",
    "                   batch_size=64,\n",
    "                   shuffle=True,\n",
    "                   num_workers=1,\n",
    "                   pin_memory=True)\n",
    "\n",
    "test_loader = torch.utils.data.DataLoader(\n",
    "        datasets.MNIST('../mnist', \n",
    "                       train=False, \n",
    "                       transform=transforms.Compose([transforms.ToTensor(), \n",
    "                                                     transforms.Normalize((0.1307,), (0.3081,)),]),), \n",
    "                       batch_size=1024,\n",
    "                       shuffle=True,\n",
    "                       num_workers=1,\n",
    "                       pin_memory=True)"
   ]
  },
  {
   "cell_type": "markdown",
   "metadata": {},
   "source": [
    "## **Step 3: Creating a Neural Network Classification Model and Optimizer**"
   ]
  },
  {
   "cell_type": "code",
   "execution_count": 61,
   "metadata": {},
   "outputs": [],
   "source": [
    "model = torch.nn.Sequential(\n",
    "        torch.nn.Conv2d(1, 16, 8, 2, padding=3),\n",
    "        torch.nn.ReLU(),\n",
    "        torch.nn.MaxPool2d(2, 1),\n",
    "        torch.nn.Conv2d(16, 32, 4, 2),\n",
    "        torch.nn.ReLU(),\n",
    "        torch.nn.MaxPool2d(2, 1),\n",
    "        torch.nn.Flatten(),\n",
    "        torch.nn.Linear(32 * 4 * 4, 32),\n",
    "        torch.nn.ReLU(),\n",
    "        torch.nn.Linear(32, 10))\n",
    "\n",
    "optimizer = torch.optim.SGD(model.parameters(), lr=0.05)"
   ]
  },
  {
   "cell_type": "markdown",
   "metadata": {},
   "source": [
    "## **Step 4: Creating and Attaching a Differential Privacy Engine to the Optimizer**"
   ]
  },
  {
   "cell_type": "code",
   "execution_count": 62,
   "metadata": {},
   "outputs": [],
   "source": [
    "privacy_engine = PrivacyEngine(\n",
    "    model,\n",
    "    batch_size=64,\n",
    "    sample_size=60000,\n",
    "    alphas=range(2,32),\n",
    "    noise_multiplier=1.3,\n",
    "    max_grad_norm=1.0,\n",
    ")\n",
    "\n",
    "privacy_engine.attach(optimizer)"
   ]
  },
  {
   "cell_type": "markdown",
   "metadata": {},
   "source": [
    "## **Step 5: Creating a training function**"
   ]
  },
  {
   "cell_type": "code",
   "execution_count": 63,
   "metadata": {},
   "outputs": [],
   "source": [
    "def train(model, train_loader, optimizer, epoch, device, delta):\n",
    "    model.train()\n",
    "    criterion = nn.CrossEntropyLoss()\n",
    "    losses = []\n",
    "    for _batch_idx, (data, target) in enumerate(tqdm(train_loader)):\n",
    "        data, target = data.to(device), target.to(device)\n",
    "        optimizer.zero_grad()\n",
    "        output = model(data)\n",
    "        loss = criterion(output, target)\n",
    "        loss.backward()\n",
    "        optimizer.step()\n",
    "        losses.append(loss.item())\n",
    "\n",
    "    \n",
    "    epsilon, best_alpha = optimizer.privacy_engine.get_privacy_spent(delta)\n",
    "    print(\n",
    "        f\"Train Epoch: {epoch} \\t\"\n",
    "        f\"Loss: {np.mean(losses):.6f} \"\n",
    "        f\"(ε = {epsilon:.2f}, δ = {delta}) for α = {best_alpha}\"\n",
    "    )"
   ]
  },
  {
   "cell_type": "markdown",
   "metadata": {},
   "source": [
    "## **Step 6: Training the private model over multiple epochs**"
   ]
  },
  {
   "cell_type": "code",
   "execution_count": 64,
   "metadata": {
    "scrolled": false
   },
   "outputs": [
    {
     "name": "stderr",
     "output_type": "stream",
     "text": [
      "100%|██████████| 938/938 [00:46<00:00, 20.06it/s]\n",
      "  0%|          | 0/938 [00:00<?, ?it/s]"
     ]
    },
    {
     "name": "stdout",
     "output_type": "stream",
     "text": [
      "Train Epoch: 1 \tLoss: 1.264175 (ε = 0.55, δ = 1e-05) for α = 23\n"
     ]
    },
    {
     "name": "stderr",
     "output_type": "stream",
     "text": [
      " 53%|█████▎    | 498/938 [00:24<00:33, 13.03it/s]Exception ignored in: <function PerSampleGradientClipper.__del__ at 0x7f0de53fc0e0>\n",
      "Traceback (most recent call last):\n",
      "  File \"/home/kritika/opacus/opacus/per_sample_gradient_clip.py\", line 113, in __del__\n",
      "    self.close()\n",
      "  File \"/home/kritika/opacus/opacus/per_sample_gradient_clip.py\", line 119, in close\n",
      "    if self.hooks_attached:  # do not close twice\n",
      "AttributeError: 'PerSampleGradientClipper' object has no attribute 'hooks_attached'\n",
      "Exception ignored in: <function PerSampleGradientClipper.__del__ at 0x7f0de53fc0e0>\n",
      "Traceback (most recent call last):\n",
      "  File \"/home/kritika/opacus/opacus/per_sample_gradient_clip.py\", line 113, in __del__\n",
      "    self.close()\n",
      "  File \"/home/kritika/opacus/opacus/per_sample_gradient_clip.py\", line 119, in close\n",
      "    if self.hooks_attached:  # do not close twice\n",
      "AttributeError: 'PerSampleGradientClipper' object has no attribute 'hooks_attached'\n",
      "100%|██████████| 938/938 [00:51<00:00, 18.36it/s]\n",
      "  0%|          | 0/938 [00:00<?, ?it/s]"
     ]
    },
    {
     "name": "stdout",
     "output_type": "stream",
     "text": [
      "Train Epoch: 2 \tLoss: 0.581603 (ε = 0.57, δ = 1e-05) for α = 22\n"
     ]
    },
    {
     "name": "stderr",
     "output_type": "stream",
     "text": [
      " 94%|█████████▎| 879/938 [00:50<00:02, 23.81it/s]Exception ignored in: <function PerSampleGradientClipper.__del__ at 0x7f0de53fc0e0>\n",
      " 94%|█████████▍| 882/938 [00:50<00:02, 23.56it/s]Traceback (most recent call last):\n",
      "  File \"/home/kritika/opacus/opacus/per_sample_gradient_clip.py\", line 113, in __del__\n",
      "    self.close()\n",
      "  File \"/home/kritika/opacus/opacus/per_sample_gradient_clip.py\", line 119, in close\n",
      "    if self.hooks_attached:  # do not close twice\n",
      "AttributeError: 'PerSampleGradientClipper' object has no attribute 'hooks_attached'\n",
      "Exception ignored in: <function PerSampleGradientClipper.__del__ at 0x7f0de53fc0e0>\n",
      "Traceback (most recent call last):\n",
      "  File \"/home/kritika/opacus/opacus/per_sample_gradient_clip.py\", line 113, in __del__\n",
      "    self.close()\n",
      "  File \"/home/kritika/opacus/opacus/per_sample_gradient_clip.py\", line 119, in close\n",
      "    if self.hooks_attached:  # do not close twice\n",
      "AttributeError: 'PerSampleGradientClipper' object has no attribute 'hooks_attached'\n",
      "100%|██████████| 938/938 [00:52<00:00, 17.77it/s]\n",
      "  0%|          | 0/938 [00:00<?, ?it/s]"
     ]
    },
    {
     "name": "stdout",
     "output_type": "stream",
     "text": [
      "Train Epoch: 3 \tLoss: 0.568538 (ε = 0.58, δ = 1e-05) for α = 22\n"
     ]
    },
    {
     "name": "stderr",
     "output_type": "stream",
     "text": [
      "Exception ignored in: <function PerSampleGradientClipper.__del__ at 0x7f0de53fc0e0>\n",
      "Traceback (most recent call last):\n",
      "  File \"/home/kritika/opacus/opacus/per_sample_gradient_clip.py\", line 113, in __del__\n",
      "    self.close()\n",
      "  File \"/home/kritika/opacus/opacus/per_sample_gradient_clip.py\", line 119, in close\n",
      "    if self.hooks_attached:  # do not close twice\n",
      "AttributeError: 'PerSampleGradientClipper' object has no attribute 'hooks_attached'\n",
      "Exception ignored in: <function PerSampleGradientClipper.__del__ at 0x7f0de53fc0e0>\n",
      "Traceback (most recent call last):\n",
      "  File \"/home/kritika/opacus/opacus/per_sample_gradient_clip.py\", line 113, in __del__\n",
      "    self.close()\n",
      "  File \"/home/kritika/opacus/opacus/per_sample_gradient_clip.py\", line 119, in close\n",
      "    if self.hooks_attached:  # do not close twice\n",
      "AttributeError: 'PerSampleGradientClipper' object has no attribute 'hooks_attached'\n",
      "100%|██████████| 938/938 [00:39<00:00, 24.02it/s]\n",
      "  0%|          | 0/938 [00:00<?, ?it/s]"
     ]
    },
    {
     "name": "stdout",
     "output_type": "stream",
     "text": [
      "Train Epoch: 4 \tLoss: 0.557404 (ε = 0.59, δ = 1e-05) for α = 22\n"
     ]
    },
    {
     "name": "stderr",
     "output_type": "stream",
     "text": [
      "Exception ignored in: <function PerSampleGradientClipper.__del__ at 0x7f0de53fc0e0>\n",
      "Traceback (most recent call last):\n",
      "  File \"/home/kritika/opacus/opacus/per_sample_gradient_clip.py\", line 113, in __del__\n",
      "    self.close()\n",
      "  File \"/home/kritika/opacus/opacus/per_sample_gradient_clip.py\", line 119, in close\n",
      "    if self.hooks_attached:  # do not close twice\n",
      "AttributeError: 'PerSampleGradientClipper' object has no attribute 'hooks_attached'\n",
      "Exception ignored in: <function PerSampleGradientClipper.__del__ at 0x7f0de53fc0e0>\n",
      "Traceback (most recent call last):\n",
      "  File \"/home/kritika/opacus/opacus/per_sample_gradient_clip.py\", line 113, in __del__\n",
      "    self.close()\n",
      "  File \"/home/kritika/opacus/opacus/per_sample_gradient_clip.py\", line 119, in close\n",
      "    if self.hooks_attached:  # do not close twice\n",
      "AttributeError: 'PerSampleGradientClipper' object has no attribute 'hooks_attached'\n",
      "100%|██████████| 938/938 [00:39<00:00, 24.05it/s]\n",
      "  0%|          | 0/938 [00:00<?, ?it/s]"
     ]
    },
    {
     "name": "stdout",
     "output_type": "stream",
     "text": [
      "Train Epoch: 5 \tLoss: 0.558477 (ε = 0.60, δ = 1e-05) for α = 22\n"
     ]
    },
    {
     "name": "stderr",
     "output_type": "stream",
     "text": [
      "Exception ignored in: <function PerSampleGradientClipper.__del__ at 0x7f0de53fc0e0>\n",
      "Traceback (most recent call last):\n",
      "  File \"/home/kritika/opacus/opacus/per_sample_gradient_clip.py\", line 113, in __del__\n",
      "    self.close()\n",
      "  File \"/home/kritika/opacus/opacus/per_sample_gradient_clip.py\", line 119, in close\n",
      "    if self.hooks_attached:  # do not close twice\n",
      "AttributeError: 'PerSampleGradientClipper' object has no attribute 'hooks_attached'\n",
      "Exception ignored in: <function PerSampleGradientClipper.__del__ at 0x7f0de53fc0e0>\n",
      "Traceback (most recent call last):\n",
      "  File \"/home/kritika/opacus/opacus/per_sample_gradient_clip.py\", line 113, in __del__\n",
      "    self.close()\n",
      "  File \"/home/kritika/opacus/opacus/per_sample_gradient_clip.py\", line 119, in close\n",
      "    if self.hooks_attached:  # do not close twice\n",
      "AttributeError: 'PerSampleGradientClipper' object has no attribute 'hooks_attached'\n",
      "100%|██████████| 938/938 [00:38<00:00, 24.31it/s]\n",
      "  0%|          | 0/938 [00:00<?, ?it/s]"
     ]
    },
    {
     "name": "stdout",
     "output_type": "stream",
     "text": [
      "Train Epoch: 6 \tLoss: 0.551492 (ε = 0.61, δ = 1e-05) for α = 22\n"
     ]
    },
    {
     "name": "stderr",
     "output_type": "stream",
     "text": [
      "Exception ignored in: <function PerSampleGradientClipper.__del__ at 0x7f0de53fc0e0>\n",
      "Traceback (most recent call last):\n",
      "  File \"/home/kritika/opacus/opacus/per_sample_gradient_clip.py\", line 113, in __del__\n",
      "    self.close()\n",
      "  File \"/home/kritika/opacus/opacus/per_sample_gradient_clip.py\", line 119, in close\n",
      "    if self.hooks_attached:  # do not close twice\n",
      "AttributeError: 'PerSampleGradientClipper' object has no attribute 'hooks_attached'\n",
      "Exception ignored in: <function PerSampleGradientClipper.__del__ at 0x7f0de53fc0e0>\n",
      "Traceback (most recent call last):\n",
      "  File \"/home/kritika/opacus/opacus/per_sample_gradient_clip.py\", line 113, in __del__\n",
      "    self.close()\n",
      "  File \"/home/kritika/opacus/opacus/per_sample_gradient_clip.py\", line 119, in close\n",
      "    if self.hooks_attached:  # do not close twice\n",
      "AttributeError: 'PerSampleGradientClipper' object has no attribute 'hooks_attached'\n",
      "100%|██████████| 938/938 [00:38<00:00, 24.11it/s]\n",
      "  0%|          | 0/938 [00:00<?, ?it/s]"
     ]
    },
    {
     "name": "stdout",
     "output_type": "stream",
     "text": [
      "Train Epoch: 7 \tLoss: 0.571763 (ε = 0.62, δ = 1e-05) for α = 22\n"
     ]
    },
    {
     "name": "stderr",
     "output_type": "stream",
     "text": [
      "100%|██████████| 938/938 [00:38<00:00, 24.24it/s]\n",
      "  0%|          | 0/938 [00:00<?, ?it/s]"
     ]
    },
    {
     "name": "stdout",
     "output_type": "stream",
     "text": [
      "Train Epoch: 8 \tLoss: 0.558948 (ε = 0.63, δ = 1e-05) for α = 22\n"
     ]
    },
    {
     "name": "stderr",
     "output_type": "stream",
     "text": [
      "100%|██████████| 938/938 [00:38<00:00, 24.14it/s]\n",
      "  0%|          | 0/938 [00:00<?, ?it/s]"
     ]
    },
    {
     "name": "stdout",
     "output_type": "stream",
     "text": [
      "Train Epoch: 9 \tLoss: 0.597282 (ε = 0.64, δ = 1e-05) for α = 22\n"
     ]
    },
    {
     "name": "stderr",
     "output_type": "stream",
     "text": [
      "100%|██████████| 938/938 [00:38<00:00, 24.22it/s]"
     ]
    },
    {
     "name": "stdout",
     "output_type": "stream",
     "text": [
      "Train Epoch: 10 \tLoss: 0.601695 (ε = 0.65, δ = 1e-05) for α = 22\n"
     ]
    },
    {
     "name": "stderr",
     "output_type": "stream",
     "text": [
      "\n"
     ]
    }
   ],
   "source": [
    "for epoch in range(1, 11):\n",
    "    train(model, train_loader, optimizer, epoch, device=\"cpu\", delta=1e-5)"
   ]
  },
  {
   "cell_type": "markdown",
   "metadata": {},
   "source": [
    "## **Putting the code all together**"
   ]
  },
  {
   "cell_type": "code",
   "execution_count": null,
   "metadata": {},
   "outputs": [],
   "source": [
    "# Step 1: Importing PyTorch and Opacus\n",
    "import torch\n",
    "from torchvision import datasets, transforms\n",
    "import numpy as np\n",
    "from opacus import PrivacyEngine\n",
    "from tqdm import tqdm\n",
    "\n",
    "# Step 2: Loading MNIST Data\n",
    "train_loader = torch.utils.data.DataLoader(datasets.MNIST('../mnist', train=True, download=True,\n",
    "               transform=transforms.Compose([transforms.ToTensor(), transforms.Normalize((0.1307,), \n",
    "               (0.3081,)),]),), batch_size=64, shuffle=True, num_workers=1, pin_memory=True)\n",
    "\n",
    "test_loader = torch.utils.data.DataLoader(datasets.MNIST('../mnist', train=False, \n",
    "              transform=transforms.Compose([transforms.ToTensor(), transforms.Normalize((0.1307,), \n",
    "              (0.3081,)),]),), batch_size=1024, shuffle=True, num_workers=1, pin_memory=True)\n",
    "\n",
    "# Step 3: Creating a PyTorch Neural Network Classification Model and Optimizer\n",
    "model = torch.nn.Sequential(torch.nn.Conv2d(1, 16, 8, 2, padding=3), torch.nn.ReLU(), torch.nn.MaxPool2d(2, 1),\n",
    "        torch.nn.Conv2d(16, 32, 4, 2),  torch.nn.ReLU(), torch.nn.MaxPool2d(2, 1), torch.nn.Flatten(), \n",
    "        torch.nn.Linear(32 * 4 * 4, 32), torch.nn.ReLU(), torch.nn.Linear(32, 10))\n",
    "\n",
    "optimizer = torch.optim.SGD(model.parameters(), lr=0.05)\n",
    "\n",
    "# Step 4: Attaching a Differential Privacy Engine to the Optimizer\n",
    "privacy_engine = PrivacyEngine(model, batch_size=64, sample_size=60000, alphas=range(2,32), \n",
    "                               noise_multiplier=1.3, max_grad_norm=1.0,)\n",
    "\n",
    "privacy_engine.attach(optimizer)\n",
    "\n",
    "# Step 5: Training the private model over multiple epochs\n",
    "def train(model, train_loader, optimizer, epoch, device, delta):\n",
    "    \n",
    "    model.train()\n",
    "    criterion = nn.CrossEntropyLoss()\n",
    "    losses = []\n",
    "    \n",
    "    for _batch_idx, (data, target) in enumerate(tqdm(train_loader)):\n",
    "        data, target = data.to(device), target.to(device)\n",
    "        optimizer.zero_grad()\n",
    "        output = model(data)\n",
    "        loss = criterion(output, target)\n",
    "        loss.backward()\n",
    "        optimizer.step()\n",
    "        losses.append(loss.item())\n",
    "        \n",
    "    epsilon, best_alpha = optimizer.privacy_engine.get_privacy_spent(delta)\n",
    "    \n",
    "    print(\n",
    "        f\"Train Epoch: {epoch} \\t\"\n",
    "        f\"Loss: {np.mean(losses):.6f} \"\n",
    "        f\"(ε = {epsilon:.2f}, δ = {delta}) for α = {best_alpha}\"\n",
    "    )\n",
    "    \n",
    "for epoch in range(1, 11):\n",
    "    train(model, train_loader, optimizer, epoch, device=\"cpu\", delta=1e-5)"
   ]
  }
 ],
 "metadata": {
  "kernelspec": {
   "display_name": "Python 3",
   "language": "python",
   "name": "python3"
  },
  "language_info": {
   "codemirror_mode": {
    "name": "ipython",
    "version": 3
   },
   "file_extension": ".py",
   "mimetype": "text/x-python",
   "name": "python",
   "nbconvert_exporter": "python",
   "pygments_lexer": "ipython3",
   "version": "3.7.7"
  }
 },
 "nbformat": 4,
 "nbformat_minor": 4
}
