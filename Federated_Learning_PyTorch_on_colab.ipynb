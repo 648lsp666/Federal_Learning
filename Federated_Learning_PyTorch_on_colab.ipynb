{
  "nbformat": 4,
  "nbformat_minor": 0,
  "metadata": {
    "colab": {
      "provenance": [],
      "gpuType": "T4"
    },
    "kernelspec": {
      "name": "python3",
      "display_name": "Python 3"
    },
    "language_info": {
      "name": "python"
    },
    "accelerator": "GPU"
  },
  "cells": [
    {
      "cell_type": "code",
      "source": [
        "#检查GPU\n",
        "!/opt/bin/nvidia-smi\n",
        "import torch\n",
        "print(\"CUDA AVAILABLE?\")\n",
        "print(torch.cuda.is_available())\n",
        "if torch.cuda.is_available():\n",
        "  print(\"GPU NUMBER: \"+ str(torch.cuda.device_count()))\n",
        "  print(\"GPU NAME: \"+ str(torch.cuda.get_device_name(0)))"
      ],
      "metadata": {
        "id": "nOa6Rzq7koQP"
      },
      "execution_count": null,
      "outputs": []
    },
    {
      "cell_type": "code",
      "execution_count": null,
      "metadata": {
        "id": "Bd9jBbtBj-cv"
      },
      "outputs": [],
      "source": [
        "#拉取AshwinRJ/Federated-Learning-PyTorch\n",
        "!mkdir FL\n",
        "!wget https://github.com/AshwinRJ/Federated-Learning-PyTorch/archive/refs/heads/master.zip -O /content/FL/master.zip\n",
        "!unzip /content/FL/master.zip -d /content/FL\n",
        "!rm /content/FL/master.zip\n",
        "!mv /content/FL/Federated-Learning-PyTorch-master/* /content/FL\n",
        "!rm -r /content/FL/Federated-Learning-PyTorch-master"
      ]
    },
    {
      "cell_type": "code",
      "source": [
        "!pip install tensorboardX"
      ],
      "metadata": {
        "id": "BUmaUZgQkH2M"
      },
      "execution_count": null,
      "outputs": []
    },
    {
      "cell_type": "code",
      "source": [
        "#To run the baseline experiment with MNIST on MLP using GPU:\n",
        "!python /content/FL/src/baseline_main.py --model=mlp --dataset=mnist --gpu=cuda:0 --epochs=10 #gpu named cuda:0"
      ],
      "metadata": {
        "id": "-069-ZqekH7A"
      },
      "execution_count": null,
      "outputs": []
    },
    {
      "cell_type": "code",
      "source": [
        "#Fix federated_main.py\n",
        "def replace_gpu_id_with_gpu(filename):\n",
        "    try:\n",
        "        with open(filename, 'r') as file:\n",
        "            lines = file.readlines()\n",
        "\n",
        "        modified_lines = []\n",
        "        for line in lines:\n",
        "            modified_line = line.replace('args.gpu_id', 'args.gpu')\n",
        "            modified_lines.append(modified_line)\n",
        "\n",
        "        with open(filename, 'w') as file:\n",
        "            file.writelines(modified_lines)\n",
        "\n",
        "        print(f\"Successfully replaced 'args.gpu_id' with 'args.gpu' in {filename}\")\n",
        "    except FileNotFoundError:\n",
        "        print(f\"File '{filename}' not found.\")\n",
        "\n",
        "# 调用函数并传入文件名\n",
        "replace_gpu_id_with_gpu('/content/FL/src/federated_main.py')"
      ],
      "metadata": {
        "colab": {
          "base_uri": "https://localhost:8080/"
        },
        "id": "un0vXS9LkIbd",
        "outputId": "e483fd95-8fb2-4de9-8915-bb0b938effcd"
      },
      "execution_count": 40,
      "outputs": [
        {
          "output_type": "stream",
          "name": "stdout",
          "text": [
            "Successfully replaced 'args.gpu_id' with 'args.gpu' in /content/FL/src/federated_main.py\n"
          ]
        }
      ]
    },
    {
      "cell_type": "code",
      "source": [
        "#To run the federated experiment with CIFAR on CNN (IID):\n",
        "!python /content/FL/src/federated_main.py --model=cnn --dataset=cifar --gpu=cuda:0 --iid=1 --epochs=10"
      ],
      "metadata": {
        "id": "W1zRBIe1kIAz"
      },
      "execution_count": null,
      "outputs": []
    },
    {
      "cell_type": "code",
      "source": [],
      "metadata": {
        "id": "S4yDnswbkIdi"
      },
      "execution_count": null,
      "outputs": []
    },
    {
      "cell_type": "code",
      "source": [],
      "metadata": {
        "id": "jV2MTTHmkIf5"
      },
      "execution_count": null,
      "outputs": []
    },
    {
      "cell_type": "code",
      "source": [],
      "metadata": {
        "id": "hqvi7VbpkIiA"
      },
      "execution_count": null,
      "outputs": []
    }
  ]
}