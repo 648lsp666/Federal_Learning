{
  "nbformat": 4,
  "nbformat_minor": 0,
  "metadata": {
    "colab": {
      "provenance": [],
      "gpuType": "T4",
      "include_colab_link": true
    },
    "kernelspec": {
      "name": "python3",
      "display_name": "Python 3"
    },
    "language_info": {
      "name": "python"
    },
    "accelerator": "GPU"
  },
  "cells": [
    {
      "cell_type": "markdown",
      "metadata": {
        "id": "view-in-github",
        "colab_type": "text"
      },
      "source": [
        "<a href=\"https://colab.research.google.com/github/648lsp666/Federal_Learning/blob/main/%E5%89%AA%E6%9E%9D.ipynb\" target=\"_parent\"><img src=\"https://colab.research.google.com/assets/colab-badge.svg\" alt=\"Open In Colab\"/></a>"
      ]
    },
    {
      "cell_type": "code",
      "source": [
        "#检查GPU\n",
        "!/opt/bin/nvidia-smi\n",
        "import torch\n",
        "print(\"CUDA AVAILABLE?\")\n",
        "print(torch.cuda.is_available())\n",
        "if torch.cuda.is_available():\n",
        "  print(\"GPU NUMBER: \"+ str(torch.cuda.device_count()))\n",
        "  print(\"GPU NAME: \"+ str(torch.cuda.get_device_name(0)))"
      ],
      "metadata": {
        "id": "WBkCgPB4C2Kb"
      },
      "execution_count": null,
      "outputs": []
    },
    {
      "cell_type": "code",
      "source": [
        "!wget https://github.com/MMorafah/Sub-FedAvg/archive/refs/heads/main.zip -O main.zip\n",
        "!unzip main.zip -d /content/FedAvg\n",
        "!rm main.zip\n",
        "!cd /content/FedAvg/Sub-FedAvg-main\n",
        "!mv /content/FedAvg/Sub-FedAvg-main/* /content\n",
        "!rm -r /content/FedAvg\n",
        "!cd /content"
      ],
      "metadata": {
        "id": "7Os7XVcYC3OI"
      },
      "execution_count": null,
      "outputs": []
    },
    {
      "cell_type": "code",
      "source": [
        "!pip install tensorboardX"
      ],
      "metadata": {
        "id": "uhw7ZvQc9TJm"
      },
      "execution_count": null,
      "outputs": []
    },
    {
      "cell_type": "code",
      "source": [
        "# 混合型剪枝\n",
        "!sh /content/script_s.sh"
      ],
      "metadata": {
        "colab": {
          "base_uri": "https://localhost:8080/"
        },
        "id": "2unsfDhiCwJ_",
        "outputId": "8ab9a284-71ac-47b6-8ea2-7176e2c78a35"
      },
      "execution_count": null,
      "outputs": [
        {
          "output_type": "stream",
          "name": "stdout",
          "text": [
            "Distance FC: 0.020728174603174603, Distance Channel: 0.0\n",
            ".... IMPOSING PRUNING To Reach Target....\n",
            "Un-Structured Pruned!\n",
            "total pruned: (49.93% pruned), channel pruned: (70.58% pruned), fc pruned: (48.73% pruned)\n",
            "## END OF ROUND ##\n",
            "Average Train loss 21.000\n",
            "AVG Init Test Loss: 1.892, AVG Init Test Acc: 36.700\n",
            "AVG Final Test Loss: 0.330, AVG Final Test Acc: 84.575\n",
            "###### ROUND 22 ######\n",
            "Clients [62 51 18 94 63 21 43  8 16 38]\n",
            "Distance FC: 0.013110449735449734, Distance Channel: 0.0\n",
            "total pruned: (50.00% pruned), channel pruned: (70.58% pruned), fc pruned: (48.80% pruned)\n",
            "Distance FC: 0.03316534391534392, Distance Channel: 0.09090909090909094\n",
            "Un-Structured Pruned!\n",
            "New Model: [3, 'M', 8, 'M']\n",
            "Structured Pruned!\n",
            "total pruned: (52.04% pruned), channel pruned: (70.58% pruned), fc pruned: (50.95% pruned)\n",
            "Distance FC: 0.029888888888888892, Distance Channel: 0.0\n",
            "Un-Structured Pruned!\n",
            "total pruned: (9.84% pruned), channel pruned: (0.00% pruned), fc pruned: (10.00% pruned)\n",
            "Distance FC: 0.018101190476190476, Distance Channel: 0.0\n",
            "total pruned: (50.00% pruned), channel pruned: (70.58% pruned), fc pruned: (48.80% pruned)\n",
            "Distance FC: 0.016580026455026455, Distance Channel: 0.0\n",
            ".... IMPOSING PRUNING To Reach Target....\n",
            "Un-Structured Pruned!\n",
            "total pruned: (50.00% pruned), channel pruned: (70.58% pruned), fc pruned: (48.80% pruned)\n",
            "Distance FC: 0.015563492063492062, Distance Channel: 0.0\n",
            ".... IMPOSING PRUNING To Reach Target....\n",
            "Un-Structured Pruned!\n",
            "total pruned: (50.00% pruned), channel pruned: (70.58% pruned), fc pruned: (48.80% pruned)\n",
            "Distance FC: 0.004820767195767195, Distance Channel: 0.0\n",
            "Un-Structured Pruned!\n",
            "total pruned: (33.01% pruned), channel pruned: (0.00% pruned), fc pruned: (34.40% pruned)\n",
            "Distance FC: 0.017869708994708997, Distance Channel: 0.0\n",
            ".... IMPOSING PRUNING To Reach Target....\n",
            "Un-Structured Pruned!\n",
            "total pruned: (50.00% pruned), channel pruned: (70.58% pruned), fc pruned: (48.80% pruned)\n",
            "Distance FC: 0.01975595238095238, Distance Channel: 0.09090909090909094\n",
            "Un-Structured Pruned!\n",
            "New Model: [3, 'M', 8, 'M']\n",
            "Structured Pruned!\n",
            "total pruned: (52.22% pruned), channel pruned: (70.58% pruned), fc pruned: (51.14% pruned)\n",
            "Distance FC: 0.027048941798941798, Distance Channel: 0.0\n",
            "Un-Structured Pruned!\n",
            "total pruned: (18.39% pruned), channel pruned: (0.00% pruned), fc pruned: (19.00% pruned)\n",
            "## END OF ROUND ##\n",
            "Average Train loss 22.000\n",
            "AVG Init Test Loss: 2.068, AVG Init Test Acc: 31.450\n",
            "AVG Final Test Loss: 0.439, AVG Final Test Acc: 80.200\n",
            "###### ROUND 23 ######\n",
            "Clients [79 14 46  9 57 72 53 90 81 64]\n",
            "Distance FC: 0.016726190476190478, Distance Channel: 0.0\n",
            ".... IMPOSING PRUNING To Reach Target....\n",
            "Un-Structured Pruned!\n",
            "total pruned: (50.00% pruned), channel pruned: (70.58% pruned), fc pruned: (48.80% pruned)\n",
            "Distance FC: 0.014249999999999999, Distance Channel: 0.0\n",
            "total pruned: (52.66% pruned), channel pruned: (70.58% pruned), fc pruned: (51.61% pruned)\n",
            "Distance FC: 0.015949074074074074, Distance Channel: 0.0\n",
            "total pruned: (52.29% pruned), channel pruned: (70.58% pruned), fc pruned: (51.21% pruned)\n",
            "Distance FC: 0.024633597883597886, Distance Channel: 0.09090909090909094\n",
            "Un-Structured Pruned!\n",
            "New Model: [3, 'M', 8, 'M']\n",
            "Structured Pruned!\n",
            "total pruned: (47.17% pruned), channel pruned: (70.58% pruned), fc pruned: (45.82% pruned)\n",
            "Distance FC: 0.01351521164021164, Distance Channel: 0.0\n",
            "total pruned: (52.27% pruned), channel pruned: (70.58% pruned), fc pruned: (51.19% pruned)\n",
            "Distance FC: 0.0018293650793650793, Distance Channel: 0.0\n",
            "Un-Structured Pruned!\n",
            "total pruned: (9.84% pruned), channel pruned: (0.00% pruned), fc pruned: (10.00% pruned)\n",
            "Distance FC: 0.016582010582010583, Distance Channel: 0.0\n",
            ".... IMPOSING PRUNING To Reach Target....\n",
            "Un-Structured Pruned!\n",
            "total pruned: (49.94% pruned), channel pruned: (70.58% pruned), fc pruned: (48.73% pruned)\n",
            "Distance FC: 0.010636904761904762, Distance Channel: 0.0\n",
            "total pruned: (50.00% pruned), channel pruned: (70.58% pruned), fc pruned: (48.80% pruned)\n",
            "Distance FC: 0.01772420634920635, Distance Channel: 0.0\n",
            ".... IMPOSING PRUNING To Reach Target....\n",
            "Un-Structured Pruned!\n",
            "total pruned: (50.00% pruned), channel pruned: (70.58% pruned), fc pruned: (48.80% pruned)\n",
            "Distance FC: 0.02512566137566138, Distance Channel: 0.18181818181818177\n",
            "Un-Structured Pruned!\n",
            "New Model: [3, 'M', 8, 'M']\n",
            "Structured Pruned!\n",
            "total pruned: (47.23% pruned), channel pruned: (70.58% pruned), fc pruned: (45.88% pruned)\n",
            "## END OF ROUND ##\n",
            "Average Train loss 23.000\n",
            "AVG Init Test Loss: 2.126, AVG Init Test Acc: 23.690\n",
            "AVG Final Test Loss: 0.398, AVG Final Test Acc: 83.410\n",
            "###### ROUND 24 ######\n",
            "Clients [32 12 96 31 29  4 74 59 55  5]\n"
          ]
        }
      ]
    },
    {
      "cell_type": "code",
      "source": [
        "# 非结构化剪枝\n",
        "!sh script_u.sh"
      ],
      "metadata": {
        "id": "P4KpXUWyL6Jt"
      },
      "execution_count": null,
      "outputs": []
    }
  ]
}