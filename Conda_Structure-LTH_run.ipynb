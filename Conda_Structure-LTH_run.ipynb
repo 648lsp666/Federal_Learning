{
  "nbformat": 4,
  "nbformat_minor": 0,
  "metadata": {
    "colab": {
      "provenance": [],
      "gpuType": "T4"
    },
    "kernelspec": {
      "name": "python3",
      "display_name": "Python 3"
    },
    "language_info": {
      "name": "python"
    },
    "accelerator": "GPU"
  },
  "cells": [
    {
      "cell_type": "markdown",
      "source": [
        "1.Clone source"
      ],
      "metadata": {
        "id": "JeRUQwmCeqt9"
      }
    },
    {
      "cell_type": "code",
      "execution_count": null,
      "metadata": {
        "id": "uXwP2gO4b6XJ"
      },
      "outputs": [],
      "source": [
        "!wget https://github.com/VITA-Group/Structure-LTH/archive/refs/heads/main.zip\n",
        "!unzip main.zip\n",
        "!ls"
      ]
    },
    {
      "cell_type": "markdown",
      "source": [
        "2.Install and Update Conda on Colab, install pkt with conda"
      ],
      "metadata": {
        "id": "405L81omejuS"
      }
    },
    {
      "cell_type": "code",
      "source": [
        "%%bash\n",
        "MINICONDA_INSTALLER_SCRIPT=Miniconda3-latest-Linux-x86_64.sh\n",
        "MINICONDA_PREFIX=/usr/local\n",
        "wget https://repo.continuum.io/miniconda/$MINICONDA_INSTALLER_SCRIPT\n",
        "chmod +x $MINICONDA_INSTALLER_SCRIPT\n",
        "./$MINICONDA_INSTALLER_SCRIPT -b -f -p $MINICONDA_PREFIX"
      ],
      "metadata": {
        "id": "X1ODA3e5eZnw"
      },
      "execution_count": null,
      "outputs": []
    },
    {
      "cell_type": "code",
      "source": [
        "%%bash\n",
        "conda install --channel defaults conda python=3.8 --yes\n",
        "conda update --channel defaults --all --yes"
      ],
      "metadata": {
        "id": "UfxxxJuOe76u"
      },
      "execution_count": null,
      "outputs": []
    },
    {
      "cell_type": "code",
      "source": [
        "!which conda\n",
        "!conda --version\n",
        "!python --version"
      ],
      "metadata": {
        "id": "bKxS2BSHexKe"
      },
      "execution_count": null,
      "outputs": []
    },
    {
      "cell_type": "code",
      "source": [
        "!conda create -n structlth python=3.8 --yes\n",
        "!conda install pytorch torchvision torchaudio cudatoolkit=10.2 -c pytorch-lts --yes\n",
        "!conda install matplotlib --yes\n",
        "!pip install advertorch tqdm networkx"
      ],
      "metadata": {
        "id": "_qE0FgO7cS5K"
      },
      "execution_count": null,
      "outputs": []
    },
    {
      "cell_type": "markdown",
      "source": [
        "3.Download Pretrained Models"
      ],
      "metadata": {
        "id": "Uo8WZanEjVaL"
      }
    },
    {
      "cell_type": "markdown",
      "source": [
        "Finding Lottery Tickets with IMP (ResNet-18)"
      ],
      "metadata": {
        "id": "Nzs9HrXRil7I"
      }
    },
    {
      "cell_type": "code",
      "source": [
        "!cd /content/Structure-LTH-main && python -u main_imp.py --data datasets/cifar10 --dataset cifar10 --arch res18 --save_dir resnet18_cifar10_lt_0.2_s1_rewind_16 --init pretrained_model/res18_cifar10_1_init.pth.tar --seed 1 --lr 0.1 --fc --rate 0.2 --pruning_times 10 --prune_type rewind_lt --epoch 160 --decreasing_lr 80,120 --rewind_epoch 16 --weight_decay 1e-4 --batch_size 128"
      ],
      "metadata": {
        "colab": {
          "base_uri": "https://localhost:8080/"
        },
        "id": "-ptPcoUycoEB",
        "outputId": "09bfdcee-c6b5-4d3d-d8df-c032b94f5502"
      },
      "execution_count": 6,
      "outputs": [
        {
          "output_type": "stream",
          "name": "stdout",
          "text": [
            "Namespace(arch='res18', batch_size=128, checkpoint=None, conv1=False, criteria='remain', data='datasets/cifar10', dataset='cifar10', decreasing_lr='80,120', epochs=160, fc=True, file_name=None, fillback=False, fillback_slow=False, gpu=0, init='pretrained_model/res18_cifar10_1_init.pth.tar', lr=0.1, momentum=0.9, pretrained=None, print_freq=50, prune_type='rewind_lt', pruning_times=10, rate=0.2, resume=False, rewind_epoch=16, save_dir='resnet18_cifar10_lt_0.2_s1_rewind_16', seed=1, use_sparse_conv=False, warmup=0, weight_decay=0.0001)\n",
            "**************************************************\n",
            "conv1 included for prune and rewind: False\n",
            "fc included for rewind: True\n",
            "**************************************************\n",
            "Downloading https://www.cs.toronto.edu/~kriz/cifar-10-python.tar.gz to datasets/cifar10/cifar-10-python.tar.gz\n",
            "170499072it [00:02, 57093127.83it/s]                   \n",
            "Extracting datasets/cifar10/cifar-10-python.tar.gz to datasets/cifar10\n",
            "Files already downloaded and verified\n",
            "Files already downloaded and verified\n",
            "build model resnet18\n",
            "normalize setting is default for CIFAR10\n",
            "NormalizeByChannelMeanStd(mean=tensor([0.4914, 0.4822, 0.4465], device='cuda:0'), std=tensor([0.2470, 0.2435, 0.2616], device='cuda:0'))\n",
            "Traceback (most recent call last):\n",
            "  File \"main_imp.py\", line 413, in <module>\n",
            "    main()\n",
            "  File \"main_imp.py\", line 102, in main\n",
            "    torch.save(new_initialization, args.init)\n",
            "  File \"/usr/local/lib/python3.8/site-packages/torch/serialization.py\", line 369, in save\n",
            "    with _open_file_like(f, 'wb') as opened_file:\n",
            "  File \"/usr/local/lib/python3.8/site-packages/torch/serialization.py\", line 230, in _open_file_like\n",
            "    return _open_file(name_or_buffer, mode)\n",
            "  File \"/usr/local/lib/python3.8/site-packages/torch/serialization.py\", line 211, in __init__\n",
            "    super(_open_file, self).__init__(open(name, mode))\n",
            "FileNotFoundError: [Errno 2] No such file or directory: 'pretrained_model/res18_cifar10_1_init.pth.tar'\n"
          ]
        }
      ]
    }
  ]
}